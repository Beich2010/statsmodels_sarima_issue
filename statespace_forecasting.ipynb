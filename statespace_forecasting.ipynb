{
 "cells": [
  {
   "cell_type": "code",
   "execution_count": 54,
   "metadata": {
    "execution": {
     "iopub.execute_input": "2020-12-20T00:11:04.342818Z",
     "iopub.status.busy": "2020-12-20T00:11:04.342009Z",
     "iopub.status.idle": "2020-12-20T00:11:05.762809Z",
     "shell.execute_reply": "2020-12-20T00:11:05.764073Z"
    }
   },
   "outputs": [],
   "source": [
    "%matplotlib inline\n",
    "\n",
    "import numpy as np\n",
    "import pandas as pd\n",
    "import statsmodels.api as sm\n",
    "import matplotlib.pyplot as plt\n",
    "\n",
    "macrodata = sm.datasets.macrodata.load_pandas().data\n",
    "macrodata.index = pd.period_range('1959Q1', '2009Q3', freq='Q')\n"
   ]
  },
  {
   "cell_type": "code",
   "execution_count": 55,
   "metadata": {
    "execution": {
     "iopub.execute_input": "2020-12-20T00:11:05.769266Z",
     "iopub.status.busy": "2020-12-20T00:11:05.767806Z",
     "iopub.status.idle": "2020-12-20T00:11:06.034429Z",
     "shell.execute_reply": "2020-12-20T00:11:06.035589Z"
    }
   },
   "outputs": [],
   "source": [
    "order = (1, 1, 1)\n",
    "endog = macrodata['infl']\n",
    "exog = macrodata[['realcons','realdpi']]\n",
    "training_obs = int(len(endog) * 0.8)\n",
    "training_endog = endog[:training_obs]\n",
    "training_exog = exog[:training_obs]"
   ]
  },
  {
   "cell_type": "markdown",
   "metadata": {
    "execution": {
     "iopub.execute_input": "2020-12-20T00:11:06.629430Z",
     "iopub.status.busy": "2020-12-20T00:11:06.627991Z",
     "iopub.status.idle": "2020-12-20T00:11:06.708665Z",
     "shell.execute_reply": "2020-12-20T00:11:06.709613Z"
    },
    "pycharm": {
     "name": "#%% md\n"
    }
   },
   "source": [
    "#### Using `append`\n"
   ]
  },
  {
   "cell_type": "code",
   "execution_count": 56,
   "outputs": [
    {
     "name": "stdout",
     "output_type": "stream",
     "text": [
      "                               SARIMAX Results                                \n",
      "==============================================================================\n",
      "Dep. Variable:                      y   No. Observations:                  162\n",
      "Model:               SARIMAX(1, 1, 1)   Log Likelihood                -342.380\n",
      "Date:                Sat, 01 May 2021   AIC                            694.760\n",
      "Time:                        17:44:41   BIC                            710.167\n",
      "Sample:                             0   HQIC                           701.016\n",
      "                                - 162                                         \n",
      "Covariance Type:                  opg                                         \n",
      "==============================================================================\n",
      "                 coef    std err          z      P>|z|      [0.025      0.975]\n",
      "------------------------------------------------------------------------------\n",
      "x1             0.0061      0.005      1.269      0.204      -0.003       0.016\n",
      "x2            -0.0036      0.004     -0.811      0.417      -0.012       0.005\n",
      "ar.L1         -0.2028      0.090     -2.247      0.025      -0.380      -0.026\n",
      "ma.L1         -0.4304      0.094     -4.555      0.000      -0.616      -0.245\n",
      "sigma2         4.1070      0.294     13.986      0.000       3.531       4.683\n",
      "===================================================================================\n",
      "Ljung-Box (L1) (Q):                   0.09   Jarque-Bera (JB):                68.13\n",
      "Prob(Q):                              0.76   Prob(JB):                         0.00\n",
      "Heteroskedasticity (H):               1.86   Skew:                            -0.62\n",
      "Prob(H) (two-sided):                  0.02   Kurtosis:                         5.93\n",
      "===================================================================================\n",
      "\n",
      "Warnings:\n",
      "[1] Covariance matrix calculated using the outer product of gradients (complex-step).\n",
      "[ 6.09513323e-03 -3.59553313e-03 -2.02756089e-01 -4.30355977e-01\n",
      "  4.10701703e+00]\n",
      "[3.22636714]\n"
     ]
    }
   ],
   "source": [
    "# With numpy\n",
    "\n",
    "m1 = sm.tsa.SARIMAX(\n",
    "    training_endog.to_numpy(), exog= training_exog.to_numpy(),order=order)\n",
    "m1_fit = m1.fit()\n",
    "\n",
    "# Print the estimated parameters\n",
    "print(m1_fit.summary())\n",
    "# Step 1: append a new observation to the sample and refit the parameters\n",
    "m1_append = m1_fit.append(endog[training_obs:training_obs + 1].to_numpy(), exog=exog[training_obs:training_obs + 1].to_numpy(), refit=False)\n",
    "\n",
    "# Print the re-estimated parameters\n",
    "print(m1_append.params)\n",
    "\n",
    "forecast_value_append_numpy = m1_append.forecast(steps=1,exog=exog[training_obs+1:training_obs + 2].to_numpy())\n",
    "\n",
    "print(forecast_value_append_numpy)"
   ],
   "metadata": {
    "collapsed": false,
    "pycharm": {
     "name": "#%%\n"
    }
   }
  },
  {
   "cell_type": "code",
   "execution_count": 57,
   "outputs": [
    {
     "name": "stdout",
     "output_type": "stream",
     "text": [
      "                               SARIMAX Results                                \n",
      "==============================================================================\n",
      "Dep. Variable:                   infl   No. Observations:                  162\n",
      "Model:               SARIMAX(1, 1, 1)   Log Likelihood                -342.380\n",
      "Date:                Sat, 01 May 2021   AIC                            694.760\n",
      "Time:                        17:44:42   BIC                            710.167\n",
      "Sample:                    03-31-1959   HQIC                           701.016\n",
      "                         - 06-30-1999                                         \n",
      "Covariance Type:                  opg                                         \n",
      "==============================================================================\n",
      "                 coef    std err          z      P>|z|      [0.025      0.975]\n",
      "------------------------------------------------------------------------------\n",
      "realcons       0.0061      0.005      1.269      0.204      -0.003       0.016\n",
      "realdpi       -0.0036      0.004     -0.811      0.417      -0.012       0.005\n",
      "ar.L1         -0.2028      0.090     -2.247      0.025      -0.380      -0.026\n",
      "ma.L1         -0.4304      0.094     -4.555      0.000      -0.616      -0.245\n",
      "sigma2         4.1070      0.294     13.986      0.000       3.531       4.683\n",
      "===================================================================================\n",
      "Ljung-Box (L1) (Q):                   0.09   Jarque-Bera (JB):                68.13\n",
      "Prob(Q):                              0.76   Prob(JB):                         0.00\n",
      "Heteroskedasticity (H):               1.86   Skew:                            -0.62\n",
      "Prob(H) (two-sided):                  0.02   Kurtosis:                         5.93\n",
      "===================================================================================\n",
      "\n",
      "Warnings:\n",
      "[1] Covariance matrix calculated using the outer product of gradients (complex-step).\n",
      "realcons    0.006095\n",
      "realdpi    -0.003596\n",
      "ar.L1      -0.202756\n",
      "ma.L1      -0.430356\n",
      "sigma2      4.107017\n",
      "dtype: float64\n",
      "1999Q4    3.226367\n",
      "Freq: Q-DEC, dtype: float64\n"
     ]
    }
   ],
   "source": [
    "#Without Numpy\n",
    "\n",
    "m2 = sm.tsa.SARIMAX(\n",
    "training_endog, exog= training_exog,order=order)\n",
    "m2_fit = m2.fit()\n",
    "\n",
    "# Print the estimated parameters\n",
    "print(m2_fit.summary())\n",
    "# Step 1: append a new observation to the sample and refit the parameters\n",
    "m2_append = m2_fit.append(endog[training_obs:training_obs + 1], exog=exog[training_obs:training_obs + 1], refit=False)\n",
    "\n",
    "# Print the re-estimated parameters\n",
    "print(m2_append.params)\n",
    "\n",
    "forecast_value_append_without = m2_append.forecast(steps=1,exog=exog[training_obs+1:training_obs + 2])\n",
    "\n",
    "print(forecast_value_append_without)"
   ],
   "metadata": {
    "collapsed": false,
    "pycharm": {
     "name": "#%%\n"
    }
   }
  },
  {
   "cell_type": "markdown",
   "metadata": {},
   "source": [
    "#### Using `extend`"
   ]
  },
  {
   "cell_type": "code",
   "execution_count": 58,
   "outputs": [
    {
     "name": "stdout",
     "output_type": "stream",
     "text": [
      "                               SARIMAX Results                                \n",
      "==============================================================================\n",
      "Dep. Variable:                      y   No. Observations:                  162\n",
      "Model:               SARIMAX(1, 1, 1)   Log Likelihood                -342.380\n",
      "Date:                Sat, 01 May 2021   AIC                            694.760\n",
      "Time:                        17:44:42   BIC                            710.167\n",
      "Sample:                             0   HQIC                           701.016\n",
      "                                - 162                                         \n",
      "Covariance Type:                  opg                                         \n",
      "==============================================================================\n",
      "                 coef    std err          z      P>|z|      [0.025      0.975]\n",
      "------------------------------------------------------------------------------\n",
      "x1             0.0061      0.005      1.269      0.204      -0.003       0.016\n",
      "x2            -0.0036      0.004     -0.811      0.417      -0.012       0.005\n",
      "ar.L1         -0.2028      0.090     -2.247      0.025      -0.380      -0.026\n",
      "ma.L1         -0.4304      0.094     -4.555      0.000      -0.616      -0.245\n",
      "sigma2         4.1070      0.294     13.986      0.000       3.531       4.683\n",
      "===================================================================================\n",
      "Ljung-Box (L1) (Q):                   0.09   Jarque-Bera (JB):                68.13\n",
      "Prob(Q):                              0.76   Prob(JB):                         0.00\n",
      "Heteroskedasticity (H):               1.86   Skew:                            -0.62\n",
      "Prob(H) (two-sided):                  0.02   Kurtosis:                         5.93\n",
      "===================================================================================\n",
      "\n",
      "Warnings:\n",
      "[1] Covariance matrix calculated using the outer product of gradients (complex-step).\n",
      "[ 6.09513323e-03 -3.59553313e-03 -2.02756089e-01 -4.30355977e-01\n",
      "  4.10701703e+00]\n"
     ]
    }
   ],
   "source": [
    "#This is Extend with numpy\n",
    "#\n",
    "\n",
    "m3 = sm.tsa.SARIMAX(training_endog.to_numpy(),training_exog.to_numpy(), order=order)\n",
    "m3_fit = m3.fit()\n",
    "\n",
    "print(m3_fit.summary())\n",
    "\n",
    "m3_extend = m3_fit.extend(endog[training_obs:training_obs + 1].to_numpy(), exog=exog[training_obs:training_obs + 1].to_numpy())\n",
    "\n",
    "# Print the re-estimated parameters\n",
    "print(m3_extend.params)\n",
    "\n",
    "forecast_value_numpy = m3_extend.forecast(steps=1,exog=exog[training_obs+1:training_obs + 2])\n",
    "\n"
   ],
   "metadata": {
    "collapsed": false,
    "pycharm": {
     "name": "#%%\n"
    }
   }
  },
  {
   "cell_type": "code",
   "execution_count": 59,
   "outputs": [
    {
     "name": "stdout",
     "output_type": "stream",
     "text": [
      "                               SARIMAX Results                                \n",
      "==============================================================================\n",
      "Dep. Variable:                   infl   No. Observations:                  162\n",
      "Model:               SARIMAX(1, 1, 1)   Log Likelihood                -342.380\n",
      "Date:                Sat, 01 May 2021   AIC                            694.760\n",
      "Time:                        17:44:43   BIC                            710.167\n",
      "Sample:                    03-31-1959   HQIC                           701.016\n",
      "                         - 06-30-1999                                         \n",
      "Covariance Type:                  opg                                         \n",
      "==============================================================================\n",
      "                 coef    std err          z      P>|z|      [0.025      0.975]\n",
      "------------------------------------------------------------------------------\n",
      "realcons       0.0061      0.005      1.269      0.204      -0.003       0.016\n",
      "realdpi       -0.0036      0.004     -0.811      0.417      -0.012       0.005\n",
      "ar.L1         -0.2028      0.090     -2.247      0.025      -0.380      -0.026\n",
      "ma.L1         -0.4304      0.094     -4.555      0.000      -0.616      -0.245\n",
      "sigma2         4.1070      0.294     13.986      0.000       3.531       4.683\n",
      "===================================================================================\n",
      "Ljung-Box (L1) (Q):                   0.09   Jarque-Bera (JB):                68.13\n",
      "Prob(Q):                              0.76   Prob(JB):                         0.00\n",
      "Heteroskedasticity (H):               1.86   Skew:                            -0.62\n",
      "Prob(H) (two-sided):                  0.02   Kurtosis:                         5.93\n",
      "===================================================================================\n",
      "\n",
      "Warnings:\n",
      "[1] Covariance matrix calculated using the outer product of gradients (complex-step).\n",
      "realcons    0.006095\n",
      "realdpi    -0.003596\n",
      "ar.L1      -0.202756\n",
      "ma.L1      -0.430356\n",
      "sigma2      4.107017\n",
      "dtype: float64\n"
     ]
    }
   ],
   "source": [
    "#This is Extend without numpy\n",
    "\n",
    "\n",
    "m4 = sm.tsa.SARIMAX(training_endog,training_exog, order=order)\n",
    "m4_fit = m4.fit()\n",
    "\n",
    "print(m4_fit.summary())\n",
    "\n",
    "m4_extend = m4_fit.extend(endog[training_obs:training_obs + 1], exog=exog[training_obs:training_obs + 1])\n",
    "\n",
    "# Print the re-estimated parameters\n",
    "print(m4_extend.params)\n",
    "\n",
    "forecast_value_without = m4_extend.forecast(steps=1,exog=exog[training_obs+1:training_obs + 2])"
   ],
   "metadata": {
    "collapsed": false,
    "pycharm": {
     "name": "#%%\n"
    }
   }
  },
  {
   "cell_type": "code",
   "execution_count": 60,
   "outputs": [
    {
     "name": "stdout",
     "output_type": "stream",
     "text": [
      "Forcast Values from Append\n",
      "Append with numpy : 3.2263671383239902\n",
      "Append  : 3.2263671383239902\n",
      "Forcast Values from Extend\n",
      "Extend with numpy : 3.0377233777393258\n",
      "Extend  : 3.0377233777393258\n",
      "\n",
      "INSTALLED VERSIONS\n",
      "------------------\n",
      "Python: 3.8.0.final.0\n",
      "OS: Linux 5.10.30-1-MANJARO #1 SMP Wed Apr 14 08:07:27 UTC 2021 x86_64\n",
      "byteorder: little\n",
      "LC_ALL: en_US.UTF-8\n",
      "LANG: en_US.UTF-8\n",
      "\n",
      "statsmodels\n",
      "===========\n",
      "\n",
      "Installed: 0.12.2 (/home/random_user_dir/lib/python3.8/site-packages/statsmodels)\n",
      "\n",
      "Required Dependencies\n",
      "=====================\n",
      "\n",
      "cython: Not installed\n",
      "numpy: 1.20.2 (/home/random_user_dir/lib/python3.8/site-packages/numpy)\n",
      "scipy: 1.4.1 (/home/random_user_dir/lib/python3.8/site-packages/scipy)\n",
      "pandas: 1.2.4 (/home/random_user_dir/lib/python3.8/site-packages/pandas)\n",
      "    dateutil: 2.8.1 (/home/random_user_dir/lib/python3.8/site-packages/dateutil)\n",
      "patsy: 0.5.1 (/home/random_user_dir/lib/python3.8/site-packages/patsy)\n",
      "\n",
      "Optional Dependencies\n",
      "=====================\n",
      "\n",
      "matplotlib: 3.2.2 (/home/random_user_dir/lib/python3.8/site-packages/matplotlib)\n",
      "    backend: module://matplotlib_inline.backend_inline \n",
      "cvxopt: Not installed\n",
      "joblib: 0.16.0 (/home/random_user_dir/lib/python3.8/site-packages/joblib)\n",
      "\n",
      "Developer Tools\n",
      "================\n",
      "\n",
      "IPython: 7.23.0 (/home/random_user_dir/lib/python3.8/site-packages/IPython)\n",
      "    jinja2: 2.11.3 (/home/random_user_dir/lib/python3.8/site-packages/jinja2)\n",
      "sphinx: Not installed\n",
      "    pygments: 2.8.1 (/home/random_user_dir/lib/python3.8/site-packages/pygments)\n",
      "pytest: Not installed\n",
      "virtualenv: Not installed\n",
      "\n",
      "\n"
     ]
    }
   ],
   "source": [
    "print(\"Forcast Values from Append\")\n",
    "\n",
    "print(\"Append with numpy : \" + str(forecast_value_append_numpy[0]))\n",
    "print(\"Append  : \" + str(forecast_value_append_without[0]))\n",
    "\n",
    "print(\"Forcast Values from Extend\")\n",
    "\n",
    "print(\"Extend with numpy : \" + str(forecast_value_numpy[0]))\n",
    "print(\"Extend  : \" + str(forecast_value_without[0]))\n",
    "\n",
    "import statsmodels.api as sm; sm.show_versions()\n"
   ],
   "metadata": {
    "collapsed": false,
    "pycharm": {
     "name": "#%%\n"
    }
   }
  }
 ],
 "metadata": {
  "kernelspec": {
   "display_name": "Python 3",
   "language": "python",
   "name": "python3"
  },
  "language_info": {
   "codemirror_mode": {
    "name": "ipython",
    "version": 3
   },
   "file_extension": ".py",
   "mimetype": "text/x-python",
   "name": "python",
   "nbconvert_exporter": "python",
   "pygments_lexer": "ipython3",
   "version": "3.8.5"
  }
 },
 "nbformat": 4,
 "nbformat_minor": 2
}
